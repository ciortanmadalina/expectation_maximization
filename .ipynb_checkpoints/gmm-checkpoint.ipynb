{
 "cells": [
  {
   "cell_type": "code",
   "execution_count": 1,
   "metadata": {
    "ExecuteTime": {
     "end_time": "2019-02-17T17:49:51.555269Z",
     "start_time": "2019-02-17T17:49:49.981350Z"
    }
   },
   "outputs": [],
   "source": [
    "import numpy as np\n",
    "import pandas as pd\n",
    "import random as rand\n",
    "import sklearn.preprocessing\n",
    "from scipy.stats import norm\n",
    "from sys import maxsize\n",
    "from scipy.stats import multivariate_normal as mvn\n",
    "from sklearn.datasets.samples_generator import make_blobs\n",
    "import matplotlib.pyplot as plt\n",
    "plt.ion()"
   ]
  },
  {
   "cell_type": "markdown",
   "metadata": {},
   "source": [
    "Generate 3 random clusters"
   ]
  },
  {
   "cell_type": "code",
   "execution_count": 2,
   "metadata": {
    "ExecuteTime": {
     "end_time": "2019-02-17T17:49:51.705162Z",
     "start_time": "2019-02-17T17:49:51.557474Z"
    }
   },
   "outputs": [
    {
     "name": "stdout",
     "output_type": "stream",
     "text": [
      "(300, 2)\n"
     ]
    },
    {
     "data": {
      "image/png": "[encoded data removed]",
      "text/plain": [
       "<Figure size 432x288 with 1 Axes>"
      ]
     },
     "metadata": {
      "needs_background": "light"
     },
     "output_type": "display_data"
    }
   ],
   "source": [
    "n_components = 3\n",
    "X, truth = make_blobs(n_samples=300, centers=n_components, random_state=42)\n",
    "/print X.shape\n",
    "plt.scatter(X[:, 0], X[:, 1], s=50, c = truth);"
   ]
  },
  {
   "cell_type": "markdown",
   "metadata": {
    "ExecuteTime": {
     "end_time": "2019-02-17T17:16:15.310292Z",
     "start_time": "2019-02-17T17:16:15.186579Z"
    }
   },
   "source": [
    "Define input parameters and initial values for the parameters describing the chosen distribution.   \n",
    "In the case of normal distribution, we define the mean and the covariace for each input feature (in our 2D case -> 2 input features)"
   ]
  },
  {
   "cell_type": "markdown",
   "metadata": {},
   "source": [
    "Consider the priors as the equal probability of being part of one of the n_components clusters"
   ]
  },
  {
   "cell_type": "code",
   "execution_count": 3,
   "metadata": {
    "ExecuteTime": {
     "end_time": "2019-02-17T17:49:51.714176Z",
     "start_time": "2019-02-17T17:49:51.707196Z"
    }
   },
   "outputs": [],
   "source": [
    "def get_input_parameters(X, distribution_type, n_components):\n",
    "    params = {}\n",
    "    random_state = np.random.RandomState(0)\n",
    "    n_samples, n_features = X.shape\n",
    "    if distribution_type == \"normal\":\n",
    "        params[\"distribution\"] = \"normal\"\n",
    "        \n",
    "        params[\"convergence_delta\"] = 1e-4\n",
    "        params[\"max_epochs\"] = 500\n",
    "        \n",
    "        params[\"priors\"] = np.ones(n_components)/n_components\n",
    "        # Choose the means as a random element of the input dataset, one for each cluster\n",
    "        random_index_for_each_feature = random_state.choice(np.arange(n_samples), n_components)\n",
    "        params[\"means\"] = X[random_index_for_each_feature]\n",
    "        params[\"covariances\"] = np.empty((n_components, n_features, n_features))\n",
    "        for k in range(n_components):\n",
    "            params[\"covariances\"][k] = np.eye(n_features)\n",
    "            \n",
    "    return params"
   ]
  },
  {
   "cell_type": "code",
   "execution_count": 4,
   "metadata": {
    "ExecuteTime": {
     "end_time": "2019-02-17T17:49:51.737074Z",
     "start_time": "2019-02-17T17:49:51.718125Z"
    }
   },
   "outputs": [],
   "source": [
    "def getPDF(X, params):\n",
    "    \"\"\"\n",
    "    Probability density function of the input distribution. This is used in the exploration step in order to\n",
    "    calculate for each observation the probability of being observed as part of cluster k.\n",
    "    \"\"\"\n",
    "    if params['distribution'] == \"normal\":\n",
    "        k = params['current_cluster']\n",
    "        return mvn(params[\"means\"][k], params[\"covariances\"][k]).pdf(X)"
   ]
  },
  {
   "cell_type": "code",
   "execution_count": 5,
   "metadata": {
    "ExecuteTime": {
     "end_time": "2019-02-17T17:49:51.766996Z",
     "start_time": "2019-02-17T17:49:51.744056Z"
    }
   },
   "outputs": [],
   "source": [
    "def e_step(X, n_components, params):\n",
    "    \"\"\"\n",
    "    Exploration phase: assigns to each observation the probability it was origindated from cluster k\n",
    "    \"\"\"\n",
    "    n_samples, n_features = X.shape\n",
    "    K = np.empty((n_samples, n_components))\n",
    "    for k in range(n_components):\n",
    "        params['current_cluster'] = k\n",
    "        K[:, k]= params['priors'][k] * getPDF(X, params)\n",
    "    # normalize matrix by rows before return\n",
    "    K = sklearn.preprocessing.normalize(K, norm = 'l1', axis= 1)\n",
    "    return K"
   ]
  },
  {
   "cell_type": "code",
   "execution_count": 6,
   "metadata": {
    "ExecuteTime": {
     "end_time": "2019-02-17T17:49:51.796990Z",
     "start_time": "2019-02-17T17:49:51.768990Z"
    }
   },
   "outputs": [],
   "source": [
    "def m_step(K, X, params):\n",
    "    \"\"\"\n",
    "    Maximisation step: updates the parameters based on the current clustering\n",
    "    result K\n",
    "    \"\"\"\n",
    "    cluster_weights = K.sum(axis=0)\n",
    "    K = K/cluster_weights\n",
    "    params['priors'] =  sklearn.preprocessing.normalize(cluster_weights.reshape(-1, 1), norm = 'l1', axis = 0)\n",
    "    if params['distribution'] == \"normal\":\n",
    "        params['means'] = K.T.dot(X)\n",
    "        for k in range(n_components):\n",
    "            Xm = X - params['means'][k]\n",
    "            params[\"covariances\"][k] = (K[:, k, np.newaxis] * Xm).T.dot(Xm)\n",
    "    return params\n",
    "\n",
    "def convergence(K, K_prev, delta):\n",
    "    \"\"\"\n",
    "    Check if the algorithm converged by estimating the difference between\n",
    "    2 consecutive solutions. If the matrix norm is smaller than a given delta,\n",
    "    we take this as a proof of convergence\n",
    "    \"\"\"\n",
    "    if K_prev == None:\n",
    "        return False\n",
    "    return np.linalg.norm(K - K_prev) < delta"
   ]
  },
  {
   "cell_type": "code",
   "execution_count": 7,
   "metadata": {
    "ExecuteTime": {
     "end_time": "2019-02-17T17:49:51.823845Z",
     "start_time": "2019-02-17T17:49:51.801903Z"
    }
   },
   "outputs": [],
   "source": [
    "def mixture_clustering(X, distribution_type, n_components):\n",
    "    # 1. Initialize distribution specific input parameters\n",
    "    params = get_input_parameters(X, \"normal\", n_components)\n",
    "    K_prev = None\n",
    "    for i in range(params[\"max_epochs\"]):\n",
    "        # 2. Exploration phase calculates the cluster probability matrix K\n",
    "        K = e_step(X, n_components, params)\n",
    "        # Early stop of the optimisation if convergence\n",
    "        if convergence(K, K_prev, params[\"convergence_delta\"]):\n",
    "            print(f\"Early convergence epoch {i}\")\n",
    "            return np.argmax(K, axis = 1)\n",
    "        # 3. Maximization step: update parameters with maximum a-posteriori estimates\n",
    "        params = m_step(K, X, params)\n",
    "    return np.argmax(K, axis = 1)"
   ]
  },
  {
   "cell_type": "code",
   "execution_count": 8,
   "metadata": {
    "ExecuteTime": {
     "end_time": "2019-02-17T17:49:52.333577Z",
     "start_time": "2019-02-17T17:49:51.830824Z"
    }
   },
   "outputs": [],
   "source": [
    "pred = mixture_clustering(X, \"normal\", n_components)"
   ]
  },
  {
   "cell_type": "code",
   "execution_count": 9,
   "metadata": {
    "ExecuteTime": {
     "end_time": "2019-02-17T17:49:52.477419Z",
     "start_time": "2019-02-17T17:49:52.335418Z"
    }
   },
   "outputs": [
    {
     "data": {
      "text/plain": [
       "<matplotlib.collections.PathCollection at 0x1ad7b9c5208>"
      ]
     },
     "execution_count": 9,
     "metadata": {},
     "output_type": "execute_result"
    },
    {
     "data": {
      "image/png": "[encoded data removed]",
      "text/plain": [
       "<Figure size 432x288 with 1 Axes>"
      ]
     },
     "metadata": {
      "needs_background": "light"
     },
     "output_type": "display_data"
    }
   ],
   "source": [
    "plt.scatter(X[:, 0], X[:, 1], 24, c=pred)"
   ]
  },
  {
   "cell_type": "markdown",
   "metadata": {},
   "source": [
    "Verify cluster quality with adjusted rand index:"
   ]
  },
  {
   "cell_type": "code",
   "execution_count": 10,
   "metadata": {
    "ExecuteTime": {
     "end_time": "2019-02-17T17:49:52.499358Z",
     "start_time": "2019-02-17T17:49:52.479413Z"
    }
   },
   "outputs": [
    {
     "data": {
      "text/plain": [
       "1.0"
      ]
     },
     "execution_count": 10,
     "metadata": {},
     "output_type": "execute_result"
    }
   ],
   "source": [
    "from sklearn.metrics.cluster import adjusted_rand_score\n",
    "adjusted_rand_score(truth, pred)"
   ]
  },
  {
   "cell_type": "code",
   "execution_count": null,
   "metadata": {},
   "outputs": [],
   "source": []
  },
  {
   "cell_type": "code",
   "execution_count": null,
   "metadata": {},
   "outputs": [],
   "source": []
  },
  {
   "cell_type": "code",
   "execution_count": null,
   "metadata": {},
   "outputs": [],
   "source": []
  }
 ],
 "metadata": {
  "kernelspec": {
   "display_name": "Python 3",
   "language": "python",
   "name": "python3"
  },
  "language_info": {
   "codemirror_mode": {
    "name": "ipython",
    "version": 3
   },
   "file_extension": ".py",
   "mimetype": "text/x-python",
   "name": "python",
   "nbconvert_exporter": "python",
   "pygments_lexer": "ipython3",
   "version": "3.6.6"
  },
  "varInspector": {
   "cols": {
    "lenName": 16,
    "lenType": 16,
    "lenVar": 40
   },
   "kernels_config": {
    "python": {
     "delete_cmd_postfix": "",
     "delete_cmd_prefix": "del ",
     "library": "var_list.py",
     "varRefreshCmd": "print(var_dic_list())"
    },
    "r": {
     "delete_cmd_postfix": ") ",
     "delete_cmd_prefix": "rm(",
     "library": "var_list.r",
     "varRefreshCmd": "cat(var_dic_list()) "
    }
   },
   "types_to_exclude": [
    "module",
    "function",
    "builtin_function_or_method",
    "instance",
    "_Feature"
   ],
   "window_display": false
  }
 },
 "nbformat": 4,
 "nbformat_minor": 2
}
