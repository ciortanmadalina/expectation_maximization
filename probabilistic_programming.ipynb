{
 "cells": [
  {
   "cell_type": "code",
   "execution_count": 1,
   "metadata": {
    "ExecuteTime": {
     "end_time": "2019-03-11T18:20:52.615621Z",
     "start_time": "2019-03-11T18:20:48.381694Z"
    }
   },
   "outputs": [],
   "source": [
    "#Import packages\n",
    "import numpy as np\n",
    "import pandas as pd\n",
    "import seaborn as sns\n",
    "import matplotlib.pyplot as plt\n",
    "import matplotlib.animation as animation\n",
    "import pymc3 as pm\n",
    "from ipywidgets import interact\n",
    "import arviz as az\n",
    "# %matplotlib inline\n",
    "sns.set()"
   ]
  },
  {
   "cell_type": "code",
   "execution_count": 2,
   "metadata": {
    "ExecuteTime": {
     "end_time": "2019-03-11T18:20:52.662263Z",
     "start_time": "2019-03-11T18:20:52.656280Z"
    }
   },
   "outputs": [],
   "source": [
    "def ECDF(data):\n",
    "    x = np.sort(data)\n",
    "    y = np.cumsum(x) / np.sum(x)\n",
    "    \n",
    "    return x, y"
   ]
  },
  {
   "cell_type": "markdown",
   "metadata": {},
   "source": [
    "## Normal distribution"
   ]
  },
  {
   "cell_type": "code",
   "execution_count": 3,
   "metadata": {
    "ExecuteTime": {
     "end_time": "2019-03-11T18:20:52.951490Z",
     "start_time": "2019-03-11T18:20:52.699165Z"
    }
   },
   "outputs": [
    {
     "data": {
      "text/plain": [
       "(array([ 1.,  6.,  5.,  9., 19., 24., 17.,  8.,  8.,  3.]),\n",
       " array([ 74.76087646,  79.49436411,  84.22785177,  88.96133942,\n",
       "         93.69482708,  98.42831474, 103.16180239, 107.89529005,\n",
       "        112.62877771, 117.36226536, 122.09575302]),\n",
       " <a list of 10 Patch objects>)"
      ]
     },
     "execution_count": 3,
     "metadata": {},
     "output_type": "execute_result"
    },
    {
     "data": {
      "image/png": "[encoded data removed]",
      "text/plain": [
       "<Figure size 432x288 with 1 Axes>"
      ]
     },
     "metadata": {
      "needs_background": "light"
     },
     "output_type": "display_data"
    }
   ],
   "source": [
    "N=100\n",
    "x = np.random.normal(100, 10, N)+ np.random.normal(0, 1, N)\n",
    "plt.hist(x)"
   ]
  },
  {
   "cell_type": "code",
   "execution_count": 35,
   "metadata": {
    "ExecuteTime": {
     "end_time": "2019-03-11T22:55:39.200799Z",
     "start_time": "2019-03-11T22:55:25.093981Z"
    }
   },
   "outputs": [
    {
     "name": "stderr",
     "output_type": "stream",
     "text": [
      "Auto-assigning NUTS sampler...\n",
      "Initializing NUTS using jitter+adapt_diag...\n",
      "Sequential sampling (2 chains in 1 job)\n",
      "NUTS: [σ_1, μ_1]\n",
      "100%|████████████████████████████████████████████████████████████████████████████| 2500/2500 [00:05<00:00, 455.74it/s]\n",
      "100%|████████████████████████████████████████████████████████████████████████████| 2500/2500 [00:05<00:00, 463.11it/s]\n",
      "There was 1 divergence after tuning. Increase `target_accept` or reparameterize.\n",
      "There was 1 divergence after tuning. Increase `target_accept` or reparameterize.\n",
      "The acceptance probability does not match the target. It is 0.8870182012362509, but should be close to 0.8. Try to increase the number of tuning steps.\n"
     ]
    }
   ],
   "source": [
    "with pm.Model() as mod:\n",
    "    # Prior for mean & standard deviation\n",
    "    μ_1 = pm.Normal('μ_1', mu= 10, sd = 5)\n",
    "    σ_1 = pm.Uniform('σ_1', 0, 10)\n",
    "    # Gaussian Likelihood\n",
    "    y_1 = pm.Normal('y_1', mu = μ_1, sd = σ_1, observed = x)\n",
    "\n",
    "    trace = pm.sample(2000, njobs= 1)"
   ]
  },
  {
   "cell_type": "code",
   "execution_count": 5,
   "metadata": {
    "ExecuteTime": {
     "end_time": "2019-03-11T18:20:58.458711Z",
     "start_time": "2019-03-11T18:20:55.643053Z"
    }
   },
   "outputs": [
    {
     "name": "stderr",
     "output_type": "stream",
     "text": [
      "C:\\Users\\ciort\\Anaconda3\\lib\\site-packages\\pymc3\\tuning\\starting.py:61: UserWarning: find_MAP should not be used to initialize the NUTS sampler, simply call pymc3.sample() and it will automatically initialize NUTS in a better way.\n",
      "  warnings.warn('find_MAP should not be used to initialize the NUTS sampler, simply call pymc3.sample() and it will automatically initialize NUTS in a better way.')\n",
      "logp = -875.76, ||grad|| = 26.912: 100%|████████████████████████████████████████████| 14/14 [00:00<00:00, 1002.29it/s]\n"
     ]
    },
    {
     "data": {
      "text/plain": [
       "{'μ_1': array(96.88627668),\n",
       " 'σ_1_interval__': array(30.23908238),\n",
       " 'σ_1': array(10.)}"
      ]
     },
     "execution_count": 5,
     "metadata": {},
     "output_type": "execute_result"
    }
   ],
   "source": [
    "\n",
    "map_estimate = pm.find_MAP(model=mod)\n",
    "\n",
    "map_estimate"
   ]
  },
  {
   "cell_type": "code",
   "execution_count": 6,
   "metadata": {
    "ExecuteTime": {
     "end_time": "2019-03-11T18:20:58.519549Z",
     "start_time": "2019-03-11T18:20:58.514564Z"
    }
   },
   "outputs": [],
   "source": [
    "e = np.random.normal(map_estimate['μ_1'], map_estimate['σ_1'], 200)"
   ]
  },
  {
   "cell_type": "code",
   "execution_count": 13,
   "metadata": {
    "ExecuteTime": {
     "end_time": "2019-03-11T18:23:58.600644Z",
     "start_time": "2019-03-11T18:23:58.592665Z"
    }
   },
   "outputs": [
    {
     "data": {
      "text/plain": [
       "array([ 82.28271117, 120.10339726])"
      ]
     },
     "execution_count": 13,
     "metadata": {},
     "output_type": "execute_result"
    }
   ],
   "source": [
    "pm.hpd(e, alpha=0.05)"
   ]
  },
  {
   "cell_type": "code",
   "execution_count": 34,
   "metadata": {
    "ExecuteTime": {
     "end_time": "2019-03-11T22:51:42.340155Z",
     "start_time": "2019-03-11T22:51:42.329403Z"
    }
   },
   "outputs": [
    {
     "data": {
      "text/plain": [
       "array([ 0, 95])"
      ]
     },
     "execution_count": 34,
     "metadata": {},
     "output_type": "execute_result"
    }
   ],
   "source": [
    "pm.hpd(np.arange(100), alpha=0.05) #https://github.com/pymc-devs/pymc3/blob/master/pymc3/stats.py"
   ]
  },
  {
   "cell_type": "code",
   "execution_count": null,
   "metadata": {
    "ExecuteTime": {
     "end_time": "2019-03-11T16:11:18.365511Z",
     "start_time": "2019-03-11T16:11:18.196524Z"
    }
   },
   "outputs": [],
   "source": [
    "az.plot_kde(x)"
   ]
  },
  {
   "cell_type": "code",
   "execution_count": null,
   "metadata": {
    "ExecuteTime": {
     "end_time": "2019-03-11T16:10:31.874653Z",
     "start_time": "2019-03-11T16:10:31.658847Z"
    }
   },
   "outputs": [],
   "source": [
    "az.plot_posterior(e)"
   ]
  },
  {
   "cell_type": "markdown",
   "metadata": {},
   "source": [
    "https://discourse.pymc.io/t/comparing-models-with-waic/321/7"
   ]
  },
  {
   "cell_type": "code",
   "execution_count": 36,
   "metadata": {
    "ExecuteTime": {
     "end_time": "2019-03-11T22:55:54.927974Z",
     "start_time": "2019-03-11T22:55:54.253068Z"
    }
   },
   "outputs": [
    {
     "name": "stderr",
     "output_type": "stream",
     "text": [
      "C:\\Users\\ciort\\Anaconda3\\lib\\site-packages\\pymc3\\stats.py:167: FutureWarning: arrays to stack must be passed as a \"sequence\" type such as list or tuple. Support for non-sequence iterables such as generators is deprecated as of NumPy 1.16 and will raise an error in the future.\n",
      "  return np.stack(logp)\n"
     ]
    },
    {
     "data": {
      "text/plain": [
       "WAIC_r(WAIC=744.0865168771821, WAIC_se=14.416048416272535, p_WAIC=1.4169418296889007, var_warn=0)"
      ]
     },
     "execution_count": 36,
     "metadata": {},
     "output_type": "execute_result"
    }
   ],
   "source": [
    "waic = pm.waic(trace, mod)\n",
    "waic"
   ]
  },
  {
   "cell_type": "markdown",
   "metadata": {},
   "source": [
    "Compare models: https://docs.pymc.io/notebooks/model_comparison.html"
   ]
  },
  {
   "cell_type": "code",
   "execution_count": null,
   "metadata": {},
   "outputs": [],
   "source": []
  },
  {
   "cell_type": "code",
   "execution_count": null,
   "metadata": {
    "ExecuteTime": {
     "end_time": "2019-03-11T16:04:34.632721Z",
     "start_time": "2019-03-11T16:04:34.627735Z"
    }
   },
   "outputs": [],
   "source": [
    "# with mod:\n",
    "#     samples = pm.sample(2000, njobs= 1)\n",
    "\n",
    "# az.plot_posterior(samples, varnames = [ 'y_1']);"
   ]
  },
  {
   "cell_type": "code",
   "execution_count": null,
   "metadata": {
    "ExecuteTime": {
     "end_time": "2019-03-11T16:04:49.054920Z",
     "start_time": "2019-03-11T16:04:48.987354Z"
    }
   },
   "outputs": [],
   "source": [
    "??az.plot_posterior"
   ]
  },
  {
   "cell_type": "markdown",
   "metadata": {},
   "source": [
    "## Skewed distribution"
   ]
  },
  {
   "cell_type": "code",
   "execution_count": null,
   "metadata": {
    "ExecuteTime": {
     "end_time": "2019-03-11T17:09:30.029910Z",
     "start_time": "2019-03-11T17:09:29.826457Z"
    }
   },
   "outputs": [],
   "source": [
    "x =  np.random.gamma(2,2, N) + np.random.normal(0, 1, N)\n",
    "print(x.shape)\n",
    "x = np.abs(x)*1000\n",
    "plt.hist(x)\n"
   ]
  },
  {
   "cell_type": "code",
   "execution_count": null,
   "metadata": {
    "ExecuteTime": {
     "end_time": "2019-03-11T17:31:36.962194Z",
     "start_time": "2019-03-11T17:31:36.502787Z"
    }
   },
   "outputs": [],
   "source": [
    "with pm.Model() as mod:\n",
    "    alpha = pm.Uniform('alpha', 0, 10) # == k\n",
    "    beta  = pm.Uniform('beta' , 0, 10) # == theta\n",
    "#     y_1 = pm.InverseGamma('y_1', alpha = alpha, beta = beta, observed = x)\n",
    "    y_1 = pm.Gamma('y_1', alpha = alpha, beta = beta, observed = x)\n"
   ]
  },
  {
   "cell_type": "code",
   "execution_count": null,
   "metadata": {
    "ExecuteTime": {
     "end_time": "2019-03-11T17:34:29.927862Z",
     "start_time": "2019-03-11T17:34:29.924871Z"
    }
   },
   "outputs": [],
   "source": [
    "# for RV in mod.basic_RVs:\n",
    "#     print(RV.name, RV.logp(mod.test_point))"
   ]
  },
  {
   "cell_type": "code",
   "execution_count": null,
   "metadata": {
    "ExecuteTime": {
     "end_time": "2019-03-11T17:32:27.424920Z",
     "start_time": "2019-03-11T17:32:19.628904Z"
    },
    "scrolled": true
   },
   "outputs": [],
   "source": [
    "with mod:\n",
    "    trace = pm.sample(2000, njobs= 1)"
   ]
  },
  {
   "cell_type": "code",
   "execution_count": null,
   "metadata": {
    "ExecuteTime": {
     "end_time": "2019-03-11T17:32:58.106643Z",
     "start_time": "2019-03-11T17:32:57.895229Z"
    }
   },
   "outputs": [],
   "source": [
    "samples = pm.sample_ppc(trace=trace, samples=500, model=mod)"
   ]
  },
  {
   "cell_type": "code",
   "execution_count": null,
   "metadata": {
    "ExecuteTime": {
     "end_time": "2019-03-11T17:34:56.162685Z",
     "start_time": "2019-03-11T17:34:55.756820Z"
    }
   },
   "outputs": [],
   "source": [
    "e = samples['y_1'].flatten() \n",
    "plt.hist(e)\n",
    "az.plot_posterior(e)"
   ]
  },
  {
   "cell_type": "code",
   "execution_count": null,
   "metadata": {
    "ExecuteTime": {
     "end_time": "2019-03-11T17:37:46.772232Z",
     "start_time": "2019-03-11T17:37:46.486576Z"
    }
   },
   "outputs": [],
   "source": [
    "x1, y1 = ECDF(e.flatten() )# Want ECDF of drug-treatment PPC samples\n",
    "plt.plot(x1, y1, label='ppc')\n",
    "x2, y2 = ECDF(x)  # Want ECDF of drug-treatment data\n",
    "plt.plot(x2, y2, label='data')\n",
    "plt.legend()"
   ]
  },
  {
   "cell_type": "code",
   "execution_count": null,
   "metadata": {},
   "outputs": [],
   "source": []
  },
  {
   "cell_type": "code",
   "execution_count": null,
   "metadata": {
    "ExecuteTime": {
     "end_time": "2019-03-11T17:26:40.258210Z",
     "start_time": "2019-03-11T17:26:39.359216Z"
    }
   },
   "outputs": [],
   "source": [
    "map_estimate = pm.find_MAP(model=mod)\n",
    "map_estimate"
   ]
  },
  {
   "cell_type": "markdown",
   "metadata": {},
   "source": [
    "https://docs.pymc.io/notebooks/stochastic_volatility.html"
   ]
  },
  {
   "cell_type": "code",
   "execution_count": null,
   "metadata": {
    "ExecuteTime": {
     "end_time": "2019-03-11T17:09:38.848859Z",
     "start_time": "2019-03-11T17:09:35.812717Z"
    }
   },
   "outputs": [],
   "source": [
    "from pymc3.distributions.timeseries import GaussianRandomWalk\n",
    "with pm.Model() as mod:\n",
    "    step_size = pm.Exponential('sigma', 50.)\n",
    "    s = GaussianRandomWalk('s', sd=step_size,\n",
    "                           shape=len(x))\n",
    "\n",
    "    nu = pm.Exponential('nu', .1)\n",
    "\n",
    "    r = pm.StudentT('r', nu=nu,\n",
    "                    lam=pm.math.exp(-2*s),\n",
    "                    observed=x)"
   ]
  },
  {
   "cell_type": "code",
   "execution_count": null,
   "metadata": {
    "ExecuteTime": {
     "end_time": "2019-03-11T17:15:19.139627Z",
     "start_time": "2019-03-11T17:15:06.867466Z"
    }
   },
   "outputs": [],
   "source": [
    "map_estimate = pm.find_MAP(model=mod)\n",
    "map_estimate"
   ]
  },
  {
   "cell_type": "code",
   "execution_count": null,
   "metadata": {
    "ExecuteTime": {
     "end_time": "2019-03-11T17:13:44.800879Z",
     "start_time": "2019-03-11T17:09:38.894032Z"
    }
   },
   "outputs": [],
   "source": [
    "with mod:\n",
    "    samples = pm.sample(2000, njobs= 1)"
   ]
  },
  {
   "cell_type": "code",
   "execution_count": null,
   "metadata": {
    "ExecuteTime": {
     "end_time": "2019-03-11T17:13:44.855777Z",
     "start_time": "2019-03-11T17:13:44.842767Z"
    }
   },
   "outputs": [],
   "source": [
    "e = np.exp(samples[s].T)"
   ]
  },
  {
   "cell_type": "code",
   "execution_count": null,
   "metadata": {
    "ExecuteTime": {
     "start_time": "2019-03-11T17:04:19.040Z"
    }
   },
   "outputs": [],
   "source": [
    "plt.hist(e)"
   ]
  },
  {
   "cell_type": "code",
   "execution_count": null,
   "metadata": {
    "ExecuteTime": {
     "end_time": "2019-03-11T17:14:04.883277Z",
     "start_time": "2019-03-11T17:14:04.877293Z"
    }
   },
   "outputs": [],
   "source": [
    "e.shape"
   ]
  },
  {
   "cell_type": "code",
   "execution_count": null,
   "metadata": {},
   "outputs": [],
   "source": [
    "e= np.random.weibull()"
   ]
  },
  {
   "cell_type": "markdown",
   "metadata": {},
   "source": [
    "1. what is hpc, how does it work?\n",
    "2. how to score models?\n",
    "\n"
   ]
  },
  {
   "cell_type": "code",
   "execution_count": null,
   "metadata": {},
   "outputs": [],
   "source": []
  },
  {
   "cell_type": "code",
   "execution_count": null,
   "metadata": {},
   "outputs": [],
   "source": []
  },
  {
   "cell_type": "code",
   "execution_count": null,
   "metadata": {},
   "outputs": [],
   "source": []
  }
 ],
 "metadata": {
  "kernelspec": {
   "display_name": "Python 3",
   "language": "python",
   "name": "python3"
  },
  "language_info": {
   "codemirror_mode": {
    "name": "ipython",
    "version": 3
   },
   "file_extension": ".py",
   "mimetype": "text/x-python",
   "name": "python",
   "nbconvert_exporter": "python",
   "pygments_lexer": "ipython3",
   "version": "3.6.6"
  },
  "varInspector": {
   "cols": {
    "lenName": 16,
    "lenType": 16,
    "lenVar": 40
   },
   "kernels_config": {
    "python": {
     "delete_cmd_postfix": "",
     "delete_cmd_prefix": "del ",
     "library": "var_list.py",
     "varRefreshCmd": "print(var_dic_list())"
    },
    "r": {
     "delete_cmd_postfix": ") ",
     "delete_cmd_prefix": "rm(",
     "library": "var_list.r",
     "varRefreshCmd": "cat(var_dic_list()) "
    }
   },
   "types_to_exclude": [
    "module",
    "function",
    "builtin_function_or_method",
    "instance",
    "_Feature"
   ],
   "window_display": false
  }
 },
 "nbformat": 4,
 "nbformat_minor": 2
}
